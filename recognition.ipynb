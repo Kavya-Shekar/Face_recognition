{
 "cells": [
  {
   "cell_type": "code",
   "execution_count": 94,
   "metadata": {},
   "outputs": [],
   "source": [
    "#Importing libraries\n",
    "\n",
    "import cv2\n",
    "import numpy as np\n",
    "import os\n",
    "from PIL import Image"
   ]
  },
  {
   "cell_type": "code",
   "execution_count": 95,
   "metadata": {},
   "outputs": [],
   "source": [
    "#Path for the training images\n",
    "\n",
    "Path = './Images_face95/'\n",
    "files = os.listdir(Path)\n",
    "files.sort()"
   ]
  },
  {
   "cell_type": "code",
   "execution_count": 96,
   "metadata": {},
   "outputs": [],
   "source": [
    "#Converting each image to Grayscale and appending the data to images\n",
    "\n",
    "images = []\n",
    "\n",
    "for name in files:\n",
    "    for i in range(1,21,4):\n",
    "        temp = cv2.imread(Path+name+'/'+name+'.'+str(i)+'.jpg')\n",
    "        temp = cv2.cvtColor(temp,cv2.COLOR_BGR2GRAY)\n",
    "        temp = cv2.resize(temp, (100,100), interpolation = cv2.INTER_AREA)\n",
    "        images.append(temp.flatten())\n",
    "        \n",
    "# total number of images considered : 360 - 5 of each person\n",
    "# images converted to grayscale of size : (100,100)\n",
    "\n",
    "# images : rows - 360\n",
    "#          columns - 100*100 = 10000\n",
    "# images.shape : (360,10000)\n",
    "\n",
    "# temp.shape : (100, 100)"
   ]
  },
  {
   "cell_type": "code",
   "execution_count": 97,
   "metadata": {},
   "outputs": [],
   "source": [
    "# Calculating the mean of images\n",
    "\n",
    "images = np.array(images)\n",
    "image_mean = images.mean(axis = 0)\n",
    "images = images - image_mean\n",
    "images = images.T\n",
    "\n",
    "# transpose of images taken to find eigen vectors of matrix A'A\n",
    "\n",
    "# image_mean.shape : (100000,)\n",
    "# images.shape : (10000, 360)"
   ]
  },
  {
   "cell_type": "code",
   "execution_count": 98,
   "metadata": {},
   "outputs": [],
   "source": [
    "#SVD function\n",
    "#u is the basis of eigen faces\n",
    "\n",
    "u,s,v = np.linalg.svd(images, full_matrices=False)\n",
    "\n",
    "# u.shape : (10000, 360)\n",
    "# There are 360 eigen faces currently"
   ]
  },
  {
   "cell_type": "code",
   "execution_count": 99,
   "metadata": {},
   "outputs": [],
   "source": [
    "#Read the imput images for face recognition\n",
    "\n",
    "test = np.array(cv2.imread('./Input/test_image.jpg'))\n",
    "test = cv2.cvtColor(test,cv2.COLOR_BGR2GRAY)\n",
    "test = cv2.resize(test, (100,100), interpolation = cv2.INTER_AREA)\n",
    "\n",
    "test_img = test.flatten()\n",
    "\n",
    "# test_img.shape : (10000, )"
   ]
  },
  {
   "cell_type": "code",
   "execution_count": 100,
   "metadata": {},
   "outputs": [],
   "source": [
    "#Substracting mean\n",
    "\n",
    "img = test_img - image_mean\n",
    "test_img = img.T"
   ]
  },
  {
   "cell_type": "code",
   "execution_count": 101,
   "metadata": {},
   "outputs": [],
   "source": [
    "#Dot product of all the images and U matrix to find the projection co-efficients\n",
    "\n",
    "dot_train = np.empty(shape = (u.shape[1], u.shape[1]),  dtype=np.int8)\n",
    "temp = np.empty(shape = (1, u.shape[1]),  dtype=np.int8)\n",
    "\n",
    "# dot_train.shape : (360, 360)\n",
    "# temp.shape : (1, 360)\n",
    "# images.shape : (10000, 360)\n",
    "\n",
    "for i in range(images.shape[1]):    \n",
    "    for c in range(u.shape[1]):    \n",
    "        temp[0,c] = np.sum(images[:,i] * u[:,c])\n",
    "        \n",
    "    dot_train[:, i] = temp[:]\n",
    "                           \n",
    "# got this random error now, even i'm confused why its happening"
   ]
  },
  {
   "cell_type": "code",
   "execution_count": 102,
   "metadata": {},
   "outputs": [],
   "source": [
    "#Dot product of test image and U matrix\n",
    "\n",
    "test_img = np.array(test_img)\n",
    "dot_test = np.empty(shape = (1, u.shape[1]), dtype=np.int8)   ##changes\n",
    "\n",
    "# dot_test.shape : (10000, 360)\n",
    "# u.shape : (10000, 360)\n",
    "# test_img.shape : (10000, )\n",
    "\n",
    "for col in range(u.shape[1]):    \n",
    "    dot_test[0,col] = np.sum(test_img[:] * u[:,col])\n"
   ]
  },
  {
   "cell_type": "code",
   "execution_count": 103,
   "metadata": {},
   "outputs": [],
   "source": [
    "# calculating the variation between input image and test images\n",
    "\n",
    "sub = np.empty(shape = (u.shape[1], u.shape[1]), dtype=np.int8)\n",
    "\n",
    "for col in range(u.shape[1]):\n",
    "    sub[:,col] = dot_train[:,col] - dot_test[:]"
   ]
  },
  {
   "cell_type": "code",
   "execution_count": 104,
   "metadata": {},
   "outputs": [],
   "source": [
    "#Finding norm of all the colums\n",
    "answer = np.empty(shape=(u.shape[1],))\n",
    "\n",
    "for c in range(sub.shape[1]):    \n",
    "    answer[c] = np.linalg.norm(sub[:,c])"
   ]
  },
  {
   "cell_type": "code",
   "execution_count": 105,
   "metadata": {},
   "outputs": [],
   "source": [
    "# FACE RECOGNITION\n",
    "\n",
    "temp_ans = np.empty(shape=(u.shape[1],))\n",
    "temp=np.copy(answer)\n",
    "temp.sort()\n",
    "check = temp[0]\n",
    "\n",
    "index=0\n",
    "for i in range(answer.shape[0]):\n",
    "    if check == answer[i]:\n",
    "        index=i\n",
    "        break"
   ]
  },
  {
   "cell_type": "code",
   "execution_count": 106,
   "metadata": {},
   "outputs": [
    {
     "name": "stdout",
     "output_type": "stream",
     "text": [
      "The predicted face is:  papad\n"
     ]
    }
   ],
   "source": [
    "# Checking for corresponding image for minimum answer\n",
    "\n",
    "i = 0\n",
    "flag = 0\n",
    "for name in files:\n",
    "    for j in range(1,21,4):\n",
    "        if index == i:\n",
    "            print( \"The predicted face is: \",name)\n",
    "            flag = 1\n",
    "            break\n",
    "        \n",
    "        else:\n",
    "            i=i+1\n",
    "    if flag:\n",
    "        break"
   ]
  },
  {
   "cell_type": "code",
   "execution_count": null,
   "metadata": {},
   "outputs": [],
   "source": []
  },
  {
   "cell_type": "code",
   "execution_count": 107,
   "metadata": {},
   "outputs": [
    {
     "name": "stdout",
     "output_type": "stream",
     "text": [
      "1288.9278490280205\n"
     ]
    }
   ],
   "source": [
    "print(check)"
   ]
  },
  {
   "cell_type": "code",
   "execution_count": 108,
   "metadata": {},
   "outputs": [
    {
     "name": "stdout",
     "output_type": "stream",
     "text": [
      "[1288.92784903 1295.65736211 1296.6256206  1302.85570959 1306.22432989\n",
      " 1306.78957755 1309.10160034 1311.13500449 1318.21356388 1318.27690566\n",
      " 1318.43847031 1318.8684544  1320.38214165 1321.13625338 1321.80520501\n",
      " 1322.4851606  1322.63071188 1323.59925959 1323.62154712 1324.22581156\n",
      " 1324.95886729 1325.38371802 1325.44747161 1326.56662102 1326.87150847\n",
      " 1327.27841842 1327.8083446  1328.10654693 1328.21986132 1330.0018797\n",
      " 1331.74734841 1331.85847597 1331.88925966 1332.16365361 1332.33141523\n",
      " 1332.75541642 1333.0847685  1333.55502324 1334.16453258 1334.21999685\n",
      " 1334.34216002 1335.31494412 1335.37036061 1335.46621073 1335.97267936\n",
      " 1336.16129266 1338.34860929 1339.68242505 1339.79214806 1340.37233633\n",
      " 1340.40255147 1343.0029784  1343.31530178 1344.2789889  1345.07248875\n",
      " 1345.62550511 1346.04643308 1347.04157323 1347.52773626 1347.67392199\n",
      " 1348.04005875 1348.33934898 1348.63597757 1348.96404696 1349.15047345\n",
      " 1349.5402921  1350.01592583 1351.14543999 1351.29234439 1351.64307419\n",
      " 1352.38788814 1352.70691578 1352.79895032 1353.19547738 1354.06019069\n",
      " 1354.0893619  1354.09342366 1354.34153743 1354.38103944 1354.77673437\n",
      " 1355.4711358  1355.69871284 1356.34693202 1356.50433099 1356.5636734\n",
      " 1357.45128826 1357.50395948 1357.7636024  1358.06921768 1358.11855153\n",
      " 1358.337955   1358.56799609 1358.75788866 1358.96283982 1359.00183959\n",
      " 1359.03568754 1359.19866098 1359.8062362  1359.81395786 1360.58443325\n",
      " 1360.62485645 1361.37834565 1361.84323621 1362.00624081 1362.10205198\n",
      " 1362.12224121 1362.3123724  1362.32375007 1362.43238364 1362.43531957\n",
      " 1362.48669718 1362.89287914 1363.19844483 1363.27693445 1363.53217784\n",
      " 1363.81303704 1364.03445704 1364.12939269 1364.21625852 1364.53948276\n",
      " 1364.73953559 1364.80218347 1365.13589067 1365.21536763 1365.30875629\n",
      " 1365.59620679 1366.11017125 1366.17312227 1366.34329508 1366.51271491\n",
      " 1366.83429866 1366.87307384 1366.97841973 1367.1470294  1367.20627559\n",
      " 1367.29002044 1367.31123012 1367.41069178 1367.72548415 1367.75765397\n",
      " 1367.80517619 1367.950657   1368.00365497 1368.00621344 1368.01279234\n",
      " 1368.5382713  1368.54192482 1368.79180301 1368.80458795 1368.87252876\n",
      " 1369.33195391 1369.4659543  1370.08357409 1370.12262225 1370.12590662\n",
      " 1370.80961479 1370.98103561 1371.10247611 1371.51850152 1371.58521427\n",
      " 1372.66966164 1372.77711228 1373.2774665  1373.53157954 1373.60583866\n",
      " 1373.77436284 1374.06986722 1374.47590012 1374.48281182 1374.67123342\n",
      " 1374.80835028 1374.91308816 1375.36904138 1375.83901675 1375.90879058\n",
      " 1375.95239743 1376.25288374 1376.40655331 1376.43270813 1376.55766316\n",
      " 1376.75960138 1376.7897443  1376.8663697  1376.9350021  1377.00980389\n",
      " 1377.45453645 1377.48430118 1377.52604331 1377.74054161 1377.84650814\n",
      " 1377.96734359 1378.01342519 1378.09070819 1378.3573557  1378.40922806\n",
      " 1379.07396466 1379.73693145 1380.14129711 1380.20107231 1380.62485853\n",
      " 1381.08001216 1381.25776016 1381.49484255 1381.50063337 1381.60631151\n",
      " 1381.63453923 1381.66168073 1381.6888217  1381.69823044 1381.81619617\n",
      " 1382.07018635 1382.38887438 1382.47567791 1382.62178487 1382.94359972\n",
      " 1383.37449738 1383.40413473 1383.73154911 1383.98699416 1384.1957954\n",
      " 1384.70141186 1384.76857272 1384.86533641 1384.86714164 1385.07725416\n",
      " 1385.17616208 1385.34219599 1385.63920268 1385.82574662 1385.8340449\n",
      " 1386.21895817 1386.3329326  1386.37476896 1386.41011248 1386.42562007\n",
      " 1386.63116942 1386.98954574 1387.30962658 1388.1404828  1388.39979833\n",
      " 1388.46606008 1388.78580062 1388.82828312 1389.47508074 1389.87769246\n",
      " 1389.8999964  1390.01942432 1390.67537549 1391.14413344 1391.25015723\n",
      " 1391.57895931 1391.75249236 1391.77512551 1391.86242136 1392.04346197\n",
      " 1392.32647034 1392.66255784 1393.62297627 1393.9106858  1394.71896811\n",
      " 1394.72076058 1395.08422685 1395.64250437 1395.69731676 1395.8753526\n",
      " 1395.91690297 1396.04369559 1396.17441604 1396.29438157 1396.52425686\n",
      " 1396.59800945 1397.08374838 1397.15425061 1397.15818718 1397.82581175\n",
      " 1397.82795794 1397.94599323 1398.03862608 1398.17774264 1398.18704042\n",
      " 1398.41910742 1398.46272743 1398.53637779 1398.58750173 1398.72870851\n",
      " 1399.38593676 1400.06499849 1400.11356682 1400.13606482 1400.13963589\n",
      " 1400.27961493 1401.18556944 1401.25693575 1401.36861675 1401.74391384\n",
      " 1402.33162982 1402.52272709 1402.85423334 1402.88702325 1403.05987043\n",
      " 1403.59823311 1403.62566235 1404.18018787 1404.25460654 1405.16796149\n",
      " 1405.36080776 1405.4618458  1405.49315189 1405.92958572 1406.17353125\n",
      " 1406.43698757 1406.54363601 1406.56460925 1406.71212407 1406.78036665\n",
      " 1407.14569253 1407.60470303 1407.62921254 1408.21021158 1408.52476017\n",
      " 1409.01951725 1409.48855973 1410.58037701 1410.75511695 1410.8008364\n",
      " 1411.79035271 1412.1079987  1412.19545389 1412.66202611 1412.90410149\n",
      " 1413.1461354  1414.03323865 1414.1502749  1414.96855089 1415.03038837\n",
      " 1415.39075877 1415.6390783  1415.82696683 1417.20852382 1417.99858956\n",
      " 1418.01586733 1418.34339989 1418.9443259  1420.33094735 1420.41648822\n",
      " 1420.84693053 1421.60226505 1422.49253074 1422.73152773 1423.00597328\n",
      " 1424.30088113 1425.25225837 1426.05224308 1426.68006224 1426.96250827\n",
      " 1432.42102749 1432.99057917 1436.81592419 1441.69795727 1442.98163536]\n"
     ]
    }
   ],
   "source": [
    "print(temp)"
   ]
  },
  {
   "cell_type": "code",
   "execution_count": 69,
   "metadata": {},
   "outputs": [],
   "source": [
    "\"\"\"\n",
    "# prints eigen faces\n",
    "\n",
    "face300 = np.array(u.T[3])\n",
    "print(face300.shape)\n",
    "\n",
    "min = np.min(face300)\n",
    "max = np.max(face300)\n",
    "print(min,max)\n",
    "\n",
    "face_eigen = (face300 - min)*255/(max - min)\n",
    "print(face_eigen.shape)\n",
    "face_eigen_reshape = np.reshape(face_eigen, (100, 100))\n",
    "Image.fromarray(face_eigen_reshape).show()\n",
    "\"\"\""
   ]
  },
  {
   "cell_type": "code",
   "execution_count": null,
   "metadata": {},
   "outputs": [],
   "source": []
  },
  {
   "cell_type": "code",
   "execution_count": null,
   "metadata": {},
   "outputs": [],
   "source": [
    "#IGNORE FROM HERE"
   ]
  },
  {
   "cell_type": "code",
   "execution_count": null,
   "metadata": {},
   "outputs": [],
   "source": []
  },
  {
   "cell_type": "code",
   "execution_count": 90,
   "metadata": {},
   "outputs": [],
   "source": [
    "## dont run now!\n",
    "\n",
    "#Dot product of test image and U matrix\n",
    "\n",
    "test_img = np.array(test_img)\n",
    "test_x = np.empty(shape = (u.shape[0], u.shape[1]),  dtype=np.int8)\n",
    "\n",
    "# test_x.shape : (10000, 360)\n",
    "# u.shape : (10000, 360)\n",
    "# test_img.shape : (10000, )\n",
    "\n",
    "for col in range(u.shape[1]):    \n",
    "    test_x[:,col] = test_img[:] * u[:,col]\n",
    "\n",
    "dot_test = np.array(test_x, dtype='int8').flatten()"
   ]
  },
  {
   "cell_type": "code",
   "execution_count": 91,
   "metadata": {},
   "outputs": [],
   "source": [
    "## havent run yet\n",
    "\n",
    "#Dot product of all the images and U matrix to find the projection co-efficients\n",
    "\n",
    "dot_train = np.empty(shape = (u.shape[0]*u.shape[1], u.shape[1]),  dtype=np.int8)\n",
    "temp = np.empty(shape = (u.shape[0], u.shape[1]),  dtype=np.int8)\n",
    "\n",
    "# dot_train.shape : (360 0000, 360)\n",
    "# temp.shape : (10000, 360)\n",
    "# images.shape : (10000, 360)\n",
    "\n",
    "for i in range(images.shape[1]):    \n",
    "    for c in range(u.shape[1]):    \n",
    "        temp[:,c] = images[:,i] * u[:,c]\n",
    "        \n",
    "    temp_2 = np.array(temp, dtype='int8').flatten()\n",
    "    dot_train[:, i] = temp_2[:]"
   ]
  },
  {
   "cell_type": "code",
   "execution_count": 95,
   "metadata": {},
   "outputs": [
    {
     "ename": "MemoryError",
     "evalue": "Unable to allocate array with shape (3600000, 360) and data type int8",
     "output_type": "error",
     "traceback": [
      "\u001b[1;31m---------------------------------------------------------------------------\u001b[0m",
      "\u001b[1;31mMemoryError\u001b[0m                               Traceback (most recent call last)",
      "\u001b[1;32m<ipython-input-95-94208c887926>\u001b[0m in \u001b[0;36m<module>\u001b[1;34m\u001b[0m\n\u001b[0;32m      1\u001b[0m \u001b[1;31m# calculating the variation between input image and test images\u001b[0m\u001b[1;33m\u001b[0m\u001b[1;33m\u001b[0m\u001b[1;33m\u001b[0m\u001b[0m\n\u001b[0;32m      2\u001b[0m \u001b[1;33m\u001b[0m\u001b[0m\n\u001b[1;32m----> 3\u001b[1;33m \u001b[0msub\u001b[0m \u001b[1;33m=\u001b[0m \u001b[0mnp\u001b[0m\u001b[1;33m.\u001b[0m\u001b[0mempty\u001b[0m\u001b[1;33m(\u001b[0m\u001b[0mshape\u001b[0m \u001b[1;33m=\u001b[0m \u001b[1;33m(\u001b[0m\u001b[0mu\u001b[0m\u001b[1;33m.\u001b[0m\u001b[0mshape\u001b[0m\u001b[1;33m[\u001b[0m\u001b[1;36m1\u001b[0m\u001b[1;33m]\u001b[0m\u001b[1;33m*\u001b[0m\u001b[0mu\u001b[0m\u001b[1;33m.\u001b[0m\u001b[0mshape\u001b[0m\u001b[1;33m[\u001b[0m\u001b[1;36m0\u001b[0m\u001b[1;33m]\u001b[0m\u001b[1;33m,\u001b[0m \u001b[0mu\u001b[0m\u001b[1;33m.\u001b[0m\u001b[0mshape\u001b[0m\u001b[1;33m[\u001b[0m\u001b[1;36m1\u001b[0m\u001b[1;33m]\u001b[0m\u001b[1;33m)\u001b[0m\u001b[1;33m,\u001b[0m \u001b[0mdtype\u001b[0m\u001b[1;33m=\u001b[0m\u001b[0mnp\u001b[0m\u001b[1;33m.\u001b[0m\u001b[0mint8\u001b[0m\u001b[1;33m)\u001b[0m\u001b[1;33m\u001b[0m\u001b[1;33m\u001b[0m\u001b[0m\n\u001b[0m\u001b[0;32m      4\u001b[0m \u001b[1;33m\u001b[0m\u001b[0m\n\u001b[0;32m      5\u001b[0m \u001b[1;32mfor\u001b[0m \u001b[0mcol\u001b[0m \u001b[1;32min\u001b[0m \u001b[0mrange\u001b[0m\u001b[1;33m(\u001b[0m\u001b[0mu\u001b[0m\u001b[1;33m.\u001b[0m\u001b[0mshape\u001b[0m\u001b[1;33m[\u001b[0m\u001b[1;36m1\u001b[0m\u001b[1;33m]\u001b[0m\u001b[1;33m)\u001b[0m\u001b[1;33m:\u001b[0m\u001b[1;33m\u001b[0m\u001b[1;33m\u001b[0m\u001b[0m\n",
      "\u001b[1;31mMemoryError\u001b[0m: Unable to allocate array with shape (3600000, 360) and data type int8"
     ]
    }
   ],
   "source": [
    "# calculating the variation between input image and test images\n",
    "\n",
    "sub = np.empty(shape = (u.shape[1]*u.shape[0], u.shape[1]), dtype=np.int8)\n",
    "\n",
    "for col in range(u.shape[1]):\n",
    "    sub[:,col] = dot_train[:,col] - dot_test[:]"
   ]
  },
  {
   "cell_type": "code",
   "execution_count": 96,
   "metadata": {},
   "outputs": [],
   "source": [
    "#Finding norm of all the colums\n",
    "answer = np.empty(shape=(u.shape[1],))\n",
    "\n",
    "for c in range(sub.shape[1]):    \n",
    "    answer[c] = np.linalg.norm(sub[:,c])"
   ]
  },
  {
   "cell_type": "code",
   "execution_count": 81,
   "metadata": {},
   "outputs": [],
   "source": [
    "# FACE RECOGNITION\n",
    "\n",
    "temp_ans = np.empty(shape=(u.shape[1],))\n",
    "temp=np.copy(answer)\n",
    "temp.sort()\n",
    "check = temp[0]\n",
    "\n",
    "index=0\n",
    "for i in range(answer.shape[0]):\n",
    "    if check == answer[i]:\n",
    "        index=i\n",
    "        break"
   ]
  },
  {
   "cell_type": "code",
   "execution_count": 82,
   "metadata": {},
   "outputs": [
    {
     "name": "stdout",
     "output_type": "stream",
     "text": [
      "The predicted face is:  pjrand\n"
     ]
    }
   ],
   "source": [
    "# Checking for corresponding image for minimum answer\n",
    "\n",
    "i = 0\n",
    "flag = 0\n",
    "for name in files:\n",
    "    for j in range(1,21,4):\n",
    "        if index == i:\n",
    "            print( \"The predicted face is: \",name)\n",
    "            flag = 1\n",
    "            break\n",
    "        \n",
    "        else:\n",
    "            i=i+1\n",
    "    if flag:\n",
    "        break"
   ]
  },
  {
   "cell_type": "code",
   "execution_count": null,
   "metadata": {},
   "outputs": [],
   "source": []
  }
 ],
 "metadata": {
  "kernelspec": {
   "display_name": "Python 3",
   "language": "python",
   "name": "python3"
  },
  "language_info": {
   "codemirror_mode": {
    "name": "ipython",
    "version": 3
   },
   "file_extension": ".py",
   "mimetype": "text/x-python",
   "name": "python",
   "nbconvert_exporter": "python",
   "pygments_lexer": "ipython3",
   "version": "3.7.4"
  }
 },
 "nbformat": 4,
 "nbformat_minor": 2
}
