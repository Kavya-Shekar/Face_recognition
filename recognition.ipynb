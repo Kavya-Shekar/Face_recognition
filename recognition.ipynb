{
 "cells": [
  {
   "cell_type": "code",
   "execution_count": 32,
   "metadata": {},
   "outputs": [],
   "source": [
    "# Importing libraries\n",
    "\n",
    "from matplotlib import pyplot as plt\n",
    "import cv2\n",
    "import numpy as np\n",
    "import os\n",
    "import random\n",
    "import shutil\n",
    "from PIL import Image\n",
    "\n",
    "x_dim = 32\n",
    "y_dim = 32"
   ]
  },
  {
   "cell_type": "code",
   "execution_count": 33,
   "metadata": {
    "scrolled": true
   },
   "outputs": [],
   "source": [
    "# Splitting the dataset into train and test folders. Please create test and train dir in the given path before running this.\n",
    "\n",
    "def delete_contents(folder): # function to delete the files in a dir\n",
    "    if not os.path.exists(folder): # if path doesn't exist, the folder is created\n",
    "            os.makedirs(folder)\n",
    "    for filename in os.listdir(folder):\n",
    "        file_path = os.path.join(folder, filename)\n",
    "        try:\n",
    "            if os.path.isfile(file_path) or os.path.islink(file_path):\n",
    "                os.unlink(file_path)\n",
    "            elif os.path.isdir(file_path):\n",
    "                shutil.rmtree(file_path)\n",
    "        except Exception as e:\n",
    "            print('Failed to delete %s. Reason: %s' % (file_path, e))\n",
    "\n",
    "def get_files_from_folder(path): #Returns all the files and folders in a given path.\n",
    "\n",
    "    files = os.listdir(path)\n",
    "    return np.asarray(files)\n",
    "\n",
    "def main(path_to_data, path_to_test_data, path_to_train_data, train_ratio):\n",
    "    # get dirs\n",
    "    _, dirs, _ = next(os.walk(path_to_data))\n",
    "\n",
    "    # calculates how many train data per class\n",
    "    data_counter_per_class = np.zeros((len(dirs)))\n",
    "    for i in range(len(dirs)):\n",
    "        path = os.path.join(path_to_data, dirs[i])\n",
    "        files = get_files_from_folder(path)\n",
    "        data_counter_per_class[i] = len(files)\n",
    "    test_counter = np.round(data_counter_per_class * (1 - train_ratio))\n",
    "    train_counter = np.round(data_counter_per_class * train_ratio)\n",
    "\n",
    "    # transfers files\n",
    "    for i in range(len(dirs)):\n",
    "        path_to_original = os.path.join(path_to_data, dirs[i])\n",
    "\n",
    "        #creates dir\n",
    "        if not os.path.exists(path_to_test_data):\n",
    "            os.makedirs(path_to_test_data)\n",
    "        if not os.path.exists(path_to_train_data):\n",
    "            os.makedirs(path_to_train_data)\n",
    "            \n",
    "        files = get_files_from_folder(path_to_original)\n",
    "        random.shuffle(files)\n",
    "        # moves data\n",
    "        for j in range(int(test_counter[i])):\n",
    "            dst = os.path.join(path_to_test_data, files[j])\n",
    "            src = os.path.join(path_to_original, files[j])\n",
    "            shutil.copy(src, dst)\n",
    "        #files = get_files_from_folder(path_to_original)\n",
    "        #random.shuffle(files)\n",
    "        for j in range(int(test_counter[i]),len(files)):\n",
    "            dst = os.path.join(path_to_train_data, files[j])\n",
    "            src = os.path.join(path_to_original, files[j])\n",
    "            shutil.copy(src, dst)\n",
    "            \n",
    "if __name__ == \"__main__\":\n",
    "    delete_contents('./train')\n",
    "    delete_contents('./test')\n",
    "    main('./Images_face95','./test','./train',0.7)"
   ]
  },
  {
   "cell_type": "code",
   "execution_count": 34,
   "metadata": {},
   "outputs": [],
   "source": [
    "# Path for the training images\n",
    "\n",
    "Path = './train/'\n",
    "files = os.listdir(Path)\n",
    "files.sort()"
   ]
  },
  {
   "cell_type": "code",
   "execution_count": null,
   "metadata": {},
   "outputs": [],
   "source": [
    "# Converting each image to Grayscale and appending the data to images\n",
    "\n",
    "images = []\n",
    "\n",
    "for name in files:\n",
    "    temp = cv2.imread('./train/'+name)\n",
    "    temp = cv2.cvtColor(temp,cv2.COLOR_BGR2GRAY)\n",
    "    temp = cv2.resize(temp, (x_dim,y_dim), interpolation = cv2.INTER_AREA)\n",
    "    images.append(temp.flatten())\n",
    "        \n",
    "# let total number of train images be : m\n",
    "\n",
    "# images : rows - m\n",
    "#          columns - 32*32 = 1024\n",
    "# images.shape : (m,1024)\n",
    "\n",
    "# temp.shape : (32, 32)"
   ]
  },
  {
   "cell_type": "code",
   "execution_count": null,
   "metadata": {},
   "outputs": [],
   "source": [
    "# Calculating the mean of images\n",
    "\n",
    "images = np.array(images)\n",
    "image_mean = images.mean(axis = 0)\n",
    "\n",
    "# Subtracting mean of images from the train images\n",
    "images = images - image_mean\n",
    "\n",
    "# transpose of images taken to find eigen vectors of covariance matrix - AA'\n",
    "images = images.T\n",
    "\n",
    "# image_mean.shape : (1024,)\n",
    "# images.shape : (1024, m)"
   ]
  },
  {
   "cell_type": "code",
   "execution_count": null,
   "metadata": {},
   "outputs": [],
   "source": [
    "# REPORT\n",
    "# Saving 4 sample difference faces\n",
    "\n",
    "h = []\n",
    "for i in random.sample(range(images.shape[1]),4):\n",
    "    reshape = np.reshape(images[:,i], (32, 32))\n",
    "    new_p = Image.fromarray(reshape) # unflattening the image\n",
    "    new_p = new_p.convert(\"L\")       #convert to grayscale image.\n",
    "    new_p = np.array(new_p)          # making numpy array\n",
    "    new_p= cv2.copyMakeBorder(new_p,3,3,3,3,cv2.BORDER_CONSTANT,value=[255,255,255]) #adding the padding to the images.\n",
    "    h.append(new_p)             #adding the images to a list\n",
    "    \n",
    "# storing the images side-by-side\n",
    "def type1(a,b,c,d):\n",
    "    g = np.concatenate((a,b),axis = 1) #concatenating them\n",
    "    i = np.concatenate((c,d),axis = 1) #concatenating them\n",
    "    cv2.imwrite(\"difference_faces.jpg\",np.concatenate((g,i),axis = 1)) #concatenating them and saving\n",
    "\n",
    "type1(*h)"
   ]
  },
  {
   "cell_type": "code",
   "execution_count": null,
   "metadata": {},
   "outputs": [],
   "source": [
    "# Saving the image mean\n",
    "\n",
    "reshape = np.reshape(image_mean, (32, 32))\n",
    "new_p = Image.fromarray(reshape)\n",
    "new_p = new_p.convert(\"L\")\n",
    "new_p = np.array(new_p)\n",
    "cv2.imwrite(\"image_mean.jpg\",new_p)"
   ]
  },
  {
   "cell_type": "code",
   "execution_count": null,
   "metadata": {},
   "outputs": [],
   "source": [
    "#SVD function\n",
    "#u is the basis of eigen faces\n",
    "\n",
    "u,s,v = np.linalg.svd(images, full_matrices=False)\n",
    "\n",
    "# assuming rank to be - m, we consider only first m eigen vectors\n",
    "# u.shape : (1024, m)\n",
    "# There are m eigen faces currently"
   ]
  },
  {
   "cell_type": "code",
   "execution_count": null,
   "metadata": {},
   "outputs": [],
   "source": [
    "print(u.shape)"
   ]
  },
  {
   "cell_type": "code",
   "execution_count": null,
   "metadata": {},
   "outputs": [],
   "source": [
    "# Calculating the number of singular values required for obtaining 90% of the sum of singular values\n",
    "\n",
    "su = 0\n",
    "for i in range(len(s)):\n",
    "    if(su>(0.90*np.sum(s))):\n",
    "        break;\n",
    "    su+=s[i]\n",
    "    \n",
    "print(i)\n",
    "#The number obtained is pretty high and there is no substantial increase in the accuracy."
   ]
  },
  {
   "cell_type": "code",
   "execution_count": null,
   "metadata": {},
   "outputs": [],
   "source": [
    "# Plotting a scree plot\n",
    "x1 = range(1,s.shape[0]+1)\n",
    "y1 = s\n",
    "\n",
    "#Plot a line graph\n",
    "fig, ax1 = plt.subplots(1, 1, figsize=(10,6))\n",
    "ax1.plot(x1, y1, marker='o')\n",
    "ax1.axhline(y=s[240], xmin=0, xmax=images.shape[1], ls='--')\n",
    "ax1.axvline(x=240, ymin=0, ymax=s[240], ls='--')\n",
    "x_ticks = np.append(ax1.get_xticks(), 240)\n",
    "y_ticks = np.append(ax1.get_yticks(), s[240])\n",
    "ax1.set_xticks(x_ticks)\n",
    "ax1.set_yticks(y_ticks)\n",
    "ax1.set_title(\"Scree plot\")\n",
    "ax1.set(xlabel=\"Component number\",ylabel=\"Singular Values\")\n",
    "\n",
    "fig.tight_layout()\n",
    "plt.show()"
   ]
  },
  {
   "cell_type": "code",
   "execution_count": null,
   "metadata": {},
   "outputs": [],
   "source": [
    "# dropping the unwanted columns in U matrix to form the feature matrix.\n",
    "\n",
    "u = u[:,:240]"
   ]
  },
  {
   "cell_type": "code",
   "execution_count": null,
   "metadata": {},
   "outputs": [],
   "source": [
    "# Dot product of all the images and U matrix to find the projection co-efficients\n",
    "\n",
    "dot_train = np.empty(shape = (u.shape[1], images.shape[1]),  dtype=np.int8)\n",
    "temp = np.empty(shape = (1, u.shape[1]),  dtype=np.int8)\n",
    "\n",
    "# u.shape : (1024, 240)\n",
    "# images.shape : (1024, m)\n",
    "# dot_train.shape : (240, m)\n",
    "# temp.shape : (1, 240)\n",
    "\n",
    "for i in range(images.shape[1]):    # i from 0 to m\n",
    "    for c in range(u.shape[1]):    # c from 0 to 240\n",
    "        temp[0,c] = np.sum(images[:,i] * u[:,c])\n",
    "        \n",
    "    dot_train[:, i] = temp[:]"
   ]
  },
  {
   "cell_type": "code",
   "execution_count": null,
   "metadata": {},
   "outputs": [],
   "source": [
    "# REPEAT THE EXECUTION OF CODE BELOW FOR NEW INPUT"
   ]
  },
  {
   "cell_type": "code",
   "execution_count": null,
   "metadata": {},
   "outputs": [],
   "source": [
    "# Path for the testing images\n",
    "\n",
    "Path = './test/'\n",
    "tfiles = os.listdir(Path)\n",
    "tfiles.sort()"
   ]
  },
  {
   "cell_type": "code",
   "execution_count": null,
   "metadata": {},
   "outputs": [],
   "source": [
    "# Converting test images to Grayscale and appending them to test_images\n",
    "\n",
    "test_images = []\n",
    "\n",
    "for name in tfiles:\n",
    "    temp = cv2.imread('./test/'+name)\n",
    "    temp = cv2.cvtColor(temp,cv2.COLOR_BGR2GRAY)\n",
    "    temp = cv2.resize(temp, (x_dim,y_dim), interpolation = cv2.INTER_AREA)\n",
    "    test_images.append(temp.flatten())       \n",
    "    \n",
    "# let total number of train images be : t\n",
    "\n",
    "# test_images : rows - 32*32 = 1024\n",
    "#          columns - t\n",
    "# test_images.shape : (1024,t)\n",
    "\n",
    "# temp.shape : (32, 32)"
   ]
  },
  {
   "cell_type": "code",
   "execution_count": null,
   "metadata": {},
   "outputs": [],
   "source": [
    "# Substracting mean from test_images\n",
    "\n",
    "test_images = np.array(test_images)\n",
    "test_images = test_images - image_mean\n",
    "test_images = test_images.T"
   ]
  },
  {
   "cell_type": "code",
   "execution_count": null,
   "metadata": {},
   "outputs": [],
   "source": [
    "# Dot product of test image and U matrix\n",
    "\n",
    "dot_test = np.empty(shape = (u.shape[1], test_images.shape[1]), dtype=np.int8)\n",
    "temp = np.empty(shape = (1, u.shape[1]),  dtype=np.int8)\n",
    "\n",
    "# u.shape : (1024, 240)\n",
    "# test_images.shape : (1024, t)\n",
    "# dot_train.shape : (240, m)\n",
    "# temp.shape : (1, 240)\n",
    "    \n",
    "for i in range(test_images.shape[1]):    # i from 0 to t\n",
    "    for c in range(u.shape[1]):          # c from 0 to 240\n",
    "        temp[0,c] = np.sum(test_images[:,i] * u[:,c])\n",
    "        \n",
    "    dot_test[:, i] = temp[:]"
   ]
  },
  {
   "cell_type": "code",
   "execution_count": null,
   "metadata": {},
   "outputs": [],
   "source": [
    "# calculating the variation between input image and test images\n",
    "\n",
    "answer = np.empty(shape=(dot_train.shape[1],dot_test.shape[1]))\n",
    "# answer.shape : (m, t)\n",
    "\n",
    "for i in range(dot_test.shape[1]): # i from 0 to t\n",
    "    \n",
    "    sub = np.empty(shape = (u.shape[1], dot_train.shape[1]), dtype=np.int8)\n",
    "    # sub.shape : (240, m)\n",
    "    \n",
    "    # subtracting the points to calculate variation\n",
    "    for col in range(dot_train.shape[1]): # col from 0 to m\n",
    "        sub[:,col] = dot_train[:,col] - dot_test[:,i]\n",
    "    \n",
    "    # calculating the magnitude of distance\n",
    "    for c in range(sub.shape[1]): # c from 0 to m\n",
    "        answer[c,i] = np.linalg.norm(sub[:,c])\n",
    "        "
   ]
  },
  {
   "cell_type": "code",
   "execution_count": null,
   "metadata": {},
   "outputs": [],
   "source": [
    "def min_index(temp):\n",
    "    m = 0\n",
    "    for i in range(len(temp)):\n",
    "        if temp[i]<temp[m]:\n",
    "            m = i\n",
    "    return m"
   ]
  },
  {
   "cell_type": "code",
   "execution_count": null,
   "metadata": {},
   "outputs": [],
   "source": [
    "# FACE RECOGNITION\n",
    "\n",
    "temp_ans = np.empty(shape=(answer.shape[1],),dtype=int)\n",
    "temp = np.empty(shape=(answer.shape[0],))\n",
    "\n",
    "# temp_ans.shape : (t, )\n",
    "# temp.shape : (m, )\n",
    "\n",
    "# calculating the nearest face in the train dataset\n",
    "for i in range(0,answer.shape[1]):\n",
    "    temp = answer[:,i]\n",
    "    temp_ans[i] = min_index(temp)"
   ]
  },
  {
   "cell_type": "code",
   "execution_count": null,
   "metadata": {
    "scrolled": true
   },
   "outputs": [],
   "source": [
    "unmatched = [] # list of unmatched faces\n",
    "right = 0 # number of matched faces\n",
    "total = test_images.shape[1] # total number of faces = t\n",
    "\n",
    "for i in range(temp_ans.shape[0]):\n",
    "    \n",
    "    # if file_name matches with the test_image name, it has been matches correctly\n",
    "    if tfiles[i].split(\".\")[0] == files[temp_ans[i]].split(\".\")[0]:\n",
    "        right+=1\n",
    "    \n",
    "    # else, it is incorrectly matched\n",
    "    else:\n",
    "        unmatched.append(\" \".join((tfiles[i].split(\".\")[0],files[temp_ans[i]].split(\".\")[0],str(temp_ans[i]))))\n",
    "        \n",
    "acc = (right/total)*100\n",
    "print(\"Accuracy: \",acc,\"%\\n\")\n",
    "\n",
    "print(\"Face that matched incorrectly:\")\n",
    "for i in unmatched:\n",
    "    print(\"\\t\",i)"
   ]
  },
  {
   "cell_type": "code",
   "execution_count": null,
   "metadata": {},
   "outputs": [],
   "source": [
    "# REPORT\n",
    "# Saving sample test cases and their outputs.\n",
    "\n",
    "position = (9,9) # position of the text on the image (25,30) incase of 100 by 100\n",
    "count = 0\n",
    "h = []\n",
    "v = []\n",
    "for i in random.sample(range(test_images.shape[1]),4): #we sample 4 random images from the images matrix\n",
    "    reshape = np.reshape(test_images[:,i], (32, 32)) #input face\n",
    "    oreshape = np.reshape(images[:,temp_ans[i]], (32, 32)) #output face\n",
    "    new_p = Image.fromarray(reshape) #reshaping the input face\n",
    "    new_p = new_p.convert(\"RGB\") #convert to RGB image. It will be still grayscale, but this is done to add the colored text\n",
    "    new_p = np.array(new_p) #making numpy array\n",
    "    new_p= cv2.copyMakeBorder(new_p,3,3,5,2,cv2.BORDER_CONSTANT,value=[255,255,255]) #making a white border 10,10,15,5 incase of 100 by 100\n",
    "    new_f = Image.fromarray(oreshape) #reshaping the output face\n",
    "    new_f = new_f.convert(\"RGB\") #convert to RGB image. It will be still grayscale, but this is done to add the colored text\n",
    "    new_f = np.array(new_f)#making numpy array\n",
    "    new_f= cv2.copyMakeBorder(new_f,3,3,2,5,cv2.BORDER_CONSTANT,value=[255,255,255])#making a white border 10,10,5,15 incase of 100 by 100\n",
    "    #this is for adding the predicted name onto the output face\n",
    "    cv2.putText(new_f, files[temp_ans[i]].split(\".\")[0], position, cv2.FONT_HERSHEY_SIMPLEX,0.16, (255, 255, 255), 1, cv2.LINE_AA) #0.5 instead of 0.16 incase of 100 by 100\n",
    "    h.append(np.concatenate((new_p, new_f),axis = 1)) #appending the 4 input-output images to a list\n",
    "\n",
    "def type1(a,b,c,d):\n",
    "    g = np.concatenate((a,b),axis = 1) #concatenating two images horizontally.\n",
    "    i = np.concatenate((c,d),axis = 1) #concatenating two images horizontally.\n",
    "    cv2.imwrite(\"Sample.jpg\",np.concatenate((g,i),axis = 0)) #concatenating two images vertically and saving it.\n",
    "\n",
    "type1(*h)"
   ]
  },
  {
   "cell_type": "code",
   "execution_count": null,
   "metadata": {},
   "outputs": [],
   "source": []
  }
 ],
 "metadata": {
  "kernelspec": {
   "display_name": "Python 3",
   "language": "python",
   "name": "python3"
  },
  "language_info": {
   "codemirror_mode": {
    "name": "ipython",
    "version": 3
   },
   "file_extension": ".py",
   "mimetype": "text/x-python",
   "name": "python",
   "nbconvert_exporter": "python",
   "pygments_lexer": "ipython3",
   "version": "3.6.5"
  }
 },
 "nbformat": 4,
 "nbformat_minor": 2
}
