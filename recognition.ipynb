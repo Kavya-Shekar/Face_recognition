{
 "cells": [
  {
   "cell_type": "code",
   "execution_count": 116,
   "metadata": {},
   "outputs": [],
   "source": [
    "#Importing libraries\n",
    "\n",
    "import cv2\n",
    "import numpy as np\n",
    "import os\n",
    "from PIL import Image"
   ]
  },
  {
   "cell_type": "code",
   "execution_count": 117,
   "metadata": {},
   "outputs": [],
   "source": [
    "#Path for the training images\n",
    "\n",
    "Path = './Images_face95/'\n",
    "files = os.listdir(Path)"
   ]
  },
  {
   "cell_type": "code",
   "execution_count": 118,
   "metadata": {},
   "outputs": [],
   "source": [
    "#Converting each image to Grayscale and appending the data to images\n",
    "\n",
    "images = []\n",
    "\n",
    "for name in files:\n",
    "    for i in range(1,21,4):\n",
    "        temp = cv2.imread(Path+name+'/'+name+'.'+str(i)+'.jpg')\n",
    "        temp = cv2.cvtColor(temp,cv2.COLOR_BGR2GRAY)\n",
    "        temp = cv2.resize(temp, (100,100), interpolation = cv2.INTER_AREA)\n",
    "        images.append(temp.flatten())\n",
    "        \n",
    "# total number of images considered : 360 - 5 of each person\n",
    "# images converted to grayscale of size : (100,100)\n",
    "\n",
    "# images : rows - 360\n",
    "#          columns - 100*100 = 10000\n",
    "# images.shape : (360,10000)\n",
    "\n",
    "# temp.shape : (100, 100)"
   ]
  },
  {
   "cell_type": "code",
   "execution_count": 119,
   "metadata": {},
   "outputs": [],
   "source": [
    "# Calculating the mean of images\n",
    "\n",
    "images = np.array(images)\n",
    "image_mean = images.mean(axis = 0)\n",
    "images = images - image_mean\n",
    "images = images.T\n",
    "\n",
    "# transpose of images taken to find eigen vectors of matrix A'A\n",
    "\n",
    "# image_mean.shape : (100000,)\n",
    "# images.shape : (10000, 360)"
   ]
  },
  {
   "cell_type": "code",
   "execution_count": 120,
   "metadata": {},
   "outputs": [],
   "source": [
    "#SVD function\n",
    "#u is the basis of eigen faces\n",
    "\n",
    "u,s,v = np.linalg.svd(images, full_matrices=False)\n",
    "\n",
    "# u.shape : (10000, 360)\n",
    "# There are 360 eigen faces currently"
   ]
  },
  {
   "cell_type": "code",
   "execution_count": 121,
   "metadata": {},
   "outputs": [],
   "source": [
    "#Read the imput images for face recognition\n",
    "\n",
    "test = np.array(cv2.imread('./Input/test_image.jpg'))\n",
    "test = cv2.cvtColor(test,cv2.COLOR_BGR2GRAY)\n",
    "test = cv2.resize(test, (100,100), interpolation = cv2.INTER_AREA)\n",
    "\n",
    "test_img = test.flatten()\n",
    "\n",
    "# test_img.shape : (10000, )"
   ]
  },
  {
   "cell_type": "code",
   "execution_count": 122,
   "metadata": {},
   "outputs": [],
   "source": [
    "#Substracting mean\n",
    "\n",
    "img = test_img - image_mean\n",
    "test_img = img.T"
   ]
  },
  {
   "cell_type": "code",
   "execution_count": 123,
   "metadata": {},
   "outputs": [
    {
     "ename": "SyntaxError",
     "evalue": "invalid syntax (<ipython-input-123-58ffef9f3801>, line 14)",
     "output_type": "error",
     "traceback": [
      "\u001b[1;36m  File \u001b[1;32m\"<ipython-input-123-58ffef9f3801>\"\u001b[1;36m, line \u001b[1;32m14\u001b[0m\n\u001b[1;33m    dot_train[:, i] = temp[:]\u001b[0m\n\u001b[1;37m            ^\u001b[0m\n\u001b[1;31mSyntaxError\u001b[0m\u001b[1;31m:\u001b[0m invalid syntax\n"
     ]
    }
   ],
   "source": [
    "#Dot product of all the images and U matrix to find the projection co-efficients\n",
    "\n",
    "dot_train = np.empty(shape = (u.shape[1], u.shape[1]),  dtype=np.int8)\n",
    "temp = np.empty(shape = (1, u.shape[1]),  dtype=np.int8)\n",
    "\n",
    "# dot_train.shape : (360, 360)\n",
    "# temp.shape : (1, 360)\n",
    "# images.shape : (10000, 360)\n",
    "\n",
    "for i in range(images.shape[1]):    \n",
    "    for c in range(u.shape[1]):    \n",
    "        temp[0,c] = np.sum(images[:,i] * u[:,c]\n",
    "        \n",
    "    dot_train[:, i] = temp[:]\n",
    "                           \n",
    "# got this random error now, even i'm confused why its happening"
   ]
  },
  {
   "cell_type": "code",
   "execution_count": 78,
   "metadata": {},
   "outputs": [],
   "source": [
    "#Dot product of test image and U matrix\n",
    "\n",
    "test_img = np.array(test_img)\n",
    "dot_test = np.empty(shape = (1, u.shape[1]), dtype=np.int8)   ##changes\n",
    "\n",
    "# dot_test.shape : (10000, 360)\n",
    "# u.shape : (10000, 360)\n",
    "# test_img.shape : (10000, )\n",
    "\n",
    "for col in range(u.shape[1]):    \n",
    "    dot_test[0,col] = np.sum(test_img[:] * u[:,col])\n"
   ]
  },
  {
   "cell_type": "code",
   "execution_count": 92,
   "metadata": {},
   "outputs": [
    {
     "ename": "ValueError",
     "evalue": "could not broadcast input array from shape (3600000) into shape (360)",
     "output_type": "error",
     "traceback": [
      "\u001b[1;31m---------------------------------------------------------------------------\u001b[0m",
      "\u001b[1;31mValueError\u001b[0m                                Traceback (most recent call last)",
      "\u001b[1;32m<ipython-input-92-0da73b1fc80b>\u001b[0m in \u001b[0;36m<module>\u001b[1;34m\u001b[0m\n\u001b[0;32m      4\u001b[0m \u001b[1;33m\u001b[0m\u001b[0m\n\u001b[0;32m      5\u001b[0m \u001b[1;32mfor\u001b[0m \u001b[0mcol\u001b[0m \u001b[1;32min\u001b[0m \u001b[0mrange\u001b[0m\u001b[1;33m(\u001b[0m\u001b[0mu\u001b[0m\u001b[1;33m.\u001b[0m\u001b[0mshape\u001b[0m\u001b[1;33m[\u001b[0m\u001b[1;36m1\u001b[0m\u001b[1;33m]\u001b[0m\u001b[1;33m)\u001b[0m\u001b[1;33m:\u001b[0m\u001b[1;33m\u001b[0m\u001b[1;33m\u001b[0m\u001b[0m\n\u001b[1;32m----> 6\u001b[1;33m     \u001b[0msub\u001b[0m\u001b[1;33m[\u001b[0m\u001b[1;33m:\u001b[0m\u001b[1;33m,\u001b[0m\u001b[0mcol\u001b[0m\u001b[1;33m]\u001b[0m \u001b[1;33m=\u001b[0m \u001b[0mdot_train\u001b[0m\u001b[1;33m[\u001b[0m\u001b[1;33m:\u001b[0m\u001b[1;33m,\u001b[0m\u001b[0mcol\u001b[0m\u001b[1;33m]\u001b[0m \u001b[1;33m-\u001b[0m \u001b[0mdot_test\u001b[0m\u001b[1;33m[\u001b[0m\u001b[1;33m:\u001b[0m\u001b[1;33m]\u001b[0m\u001b[1;33m\u001b[0m\u001b[1;33m\u001b[0m\u001b[0m\n\u001b[0m",
      "\u001b[1;31mValueError\u001b[0m: could not broadcast input array from shape (3600000) into shape (360)"
     ]
    }
   ],
   "source": [
    "# calculating the variation between input image and test images\n",
    "\n",
    "sub = np.empty(shape = (u.shape[1], u.shape[1]), dtype=np.int8)\n",
    "\n",
    "for col in range(u.shape[1]):\n",
    "    sub[:,col] = dot_train[:,col] - dot_test[:]"
   ]
  },
  {
   "cell_type": "code",
   "execution_count": 80,
   "metadata": {},
   "outputs": [],
   "source": [
    "#Finding norm of all the colums\n",
    "answer = np.empty(shape=(u.shape[1],))\n",
    "\n",
    "for c in range(sub.shape[1]):    \n",
    "    answer[c] = np.linalg.norm(sub[:,c])"
   ]
  },
  {
   "cell_type": "code",
   "execution_count": 81,
   "metadata": {},
   "outputs": [],
   "source": [
    "# FACE RECOGNITION\n",
    "\n",
    "temp_ans = np.empty(shape=(u.shape[1],))\n",
    "temp=np.copy(answer)\n",
    "temp.sort()\n",
    "check = temp[0]\n",
    "\n",
    "index=0\n",
    "for i in range(answer.shape[0]):\n",
    "    if check == answer[i]:\n",
    "        index=i\n",
    "        break"
   ]
  },
  {
   "cell_type": "code",
   "execution_count": 82,
   "metadata": {},
   "outputs": [
    {
     "name": "stdout",
     "output_type": "stream",
     "text": [
      "The predicted face is:  pjrand\n"
     ]
    }
   ],
   "source": [
    "# Checking for corresponding image for minimum answer\n",
    "\n",
    "i = 0\n",
    "flag = 0\n",
    "for name in files:\n",
    "    for j in range(1,21,4):\n",
    "        if index == i:\n",
    "            print( \"The predicted face is: \",name)\n",
    "            flag = 1\n",
    "            break\n",
    "        \n",
    "        else:\n",
    "            i=i+1\n",
    "    if flag:\n",
    "        break"
   ]
  },
  {
   "cell_type": "code",
   "execution_count": 69,
   "metadata": {},
   "outputs": [],
   "source": [
    "\"\"\"\n",
    "# prints eigen faces\n",
    "\n",
    "face300 = np.array(u.T[3])\n",
    "print(face300.shape)\n",
    "\n",
    "min = np.min(face300)\n",
    "max = np.max(face300)\n",
    "print(min,max)\n",
    "\n",
    "face_eigen = (face300 - min)*255/(max - min)\n",
    "print(face_eigen.shape)\n",
    "face_eigen_reshape = np.reshape(face_eigen, (100, 100))\n",
    "Image.fromarray(face_eigen_reshape).show()\n",
    "\"\"\""
   ]
  },
  {
   "cell_type": "code",
   "execution_count": null,
   "metadata": {},
   "outputs": [],
   "source": []
  },
  {
   "cell_type": "code",
   "execution_count": null,
   "metadata": {},
   "outputs": [],
   "source": [
    "#IGNORE FROM HERE"
   ]
  },
  {
   "cell_type": "code",
   "execution_count": null,
   "metadata": {},
   "outputs": [],
   "source": []
  },
  {
   "cell_type": "code",
   "execution_count": 90,
   "metadata": {},
   "outputs": [],
   "source": [
    "## dont run now!\n",
    "\n",
    "#Dot product of test image and U matrix\n",
    "\n",
    "test_img = np.array(test_img)\n",
    "test_x = np.empty(shape = (u.shape[0], u.shape[1]),  dtype=np.int8)\n",
    "\n",
    "# test_x.shape : (10000, 360)\n",
    "# u.shape : (10000, 360)\n",
    "# test_img.shape : (10000, )\n",
    "\n",
    "for col in range(u.shape[1]):    \n",
    "    test_x[:,col] = test_img[:] * u[:,col]\n",
    "\n",
    "dot_test = np.array(test_x, dtype='int8').flatten()"
   ]
  },
  {
   "cell_type": "code",
   "execution_count": 91,
   "metadata": {},
   "outputs": [],
   "source": [
    "## havent run yet\n",
    "\n",
    "#Dot product of all the images and U matrix to find the projection co-efficients\n",
    "\n",
    "dot_train = np.empty(shape = (u.shape[0]*u.shape[1], u.shape[1]),  dtype=np.int8)\n",
    "temp = np.empty(shape = (u.shape[0], u.shape[1]),  dtype=np.int8)\n",
    "\n",
    "# dot_train.shape : (360 0000, 360)\n",
    "# temp.shape : (10000, 360)\n",
    "# images.shape : (10000, 360)\n",
    "\n",
    "for i in range(images.shape[1]):    \n",
    "    for c in range(u.shape[1]):    \n",
    "        temp[:,c] = images[:,i] * u[:,c]\n",
    "        \n",
    "    temp_2 = np.array(temp, dtype='int8').flatten()\n",
    "    dot_train[:, i] = temp_2[:]"
   ]
  },
  {
   "cell_type": "code",
   "execution_count": 95,
   "metadata": {},
   "outputs": [
    {
     "ename": "MemoryError",
     "evalue": "Unable to allocate array with shape (3600000, 360) and data type int8",
     "output_type": "error",
     "traceback": [
      "\u001b[1;31m---------------------------------------------------------------------------\u001b[0m",
      "\u001b[1;31mMemoryError\u001b[0m                               Traceback (most recent call last)",
      "\u001b[1;32m<ipython-input-95-94208c887926>\u001b[0m in \u001b[0;36m<module>\u001b[1;34m\u001b[0m\n\u001b[0;32m      1\u001b[0m \u001b[1;31m# calculating the variation between input image and test images\u001b[0m\u001b[1;33m\u001b[0m\u001b[1;33m\u001b[0m\u001b[1;33m\u001b[0m\u001b[0m\n\u001b[0;32m      2\u001b[0m \u001b[1;33m\u001b[0m\u001b[0m\n\u001b[1;32m----> 3\u001b[1;33m \u001b[0msub\u001b[0m \u001b[1;33m=\u001b[0m \u001b[0mnp\u001b[0m\u001b[1;33m.\u001b[0m\u001b[0mempty\u001b[0m\u001b[1;33m(\u001b[0m\u001b[0mshape\u001b[0m \u001b[1;33m=\u001b[0m \u001b[1;33m(\u001b[0m\u001b[0mu\u001b[0m\u001b[1;33m.\u001b[0m\u001b[0mshape\u001b[0m\u001b[1;33m[\u001b[0m\u001b[1;36m1\u001b[0m\u001b[1;33m]\u001b[0m\u001b[1;33m*\u001b[0m\u001b[0mu\u001b[0m\u001b[1;33m.\u001b[0m\u001b[0mshape\u001b[0m\u001b[1;33m[\u001b[0m\u001b[1;36m0\u001b[0m\u001b[1;33m]\u001b[0m\u001b[1;33m,\u001b[0m \u001b[0mu\u001b[0m\u001b[1;33m.\u001b[0m\u001b[0mshape\u001b[0m\u001b[1;33m[\u001b[0m\u001b[1;36m1\u001b[0m\u001b[1;33m]\u001b[0m\u001b[1;33m)\u001b[0m\u001b[1;33m,\u001b[0m \u001b[0mdtype\u001b[0m\u001b[1;33m=\u001b[0m\u001b[0mnp\u001b[0m\u001b[1;33m.\u001b[0m\u001b[0mint8\u001b[0m\u001b[1;33m)\u001b[0m\u001b[1;33m\u001b[0m\u001b[1;33m\u001b[0m\u001b[0m\n\u001b[0m\u001b[0;32m      4\u001b[0m \u001b[1;33m\u001b[0m\u001b[0m\n\u001b[0;32m      5\u001b[0m \u001b[1;32mfor\u001b[0m \u001b[0mcol\u001b[0m \u001b[1;32min\u001b[0m \u001b[0mrange\u001b[0m\u001b[1;33m(\u001b[0m\u001b[0mu\u001b[0m\u001b[1;33m.\u001b[0m\u001b[0mshape\u001b[0m\u001b[1;33m[\u001b[0m\u001b[1;36m1\u001b[0m\u001b[1;33m]\u001b[0m\u001b[1;33m)\u001b[0m\u001b[1;33m:\u001b[0m\u001b[1;33m\u001b[0m\u001b[1;33m\u001b[0m\u001b[0m\n",
      "\u001b[1;31mMemoryError\u001b[0m: Unable to allocate array with shape (3600000, 360) and data type int8"
     ]
    }
   ],
   "source": [
    "# calculating the variation between input image and test images\n",
    "\n",
    "sub = np.empty(shape = (u.shape[1]*u.shape[0], u.shape[1]), dtype=np.int8)\n",
    "\n",
    "for col in range(u.shape[1]):\n",
    "    sub[:,col] = dot_train[:,col] - dot_test[:]"
   ]
  },
  {
   "cell_type": "code",
   "execution_count": 96,
   "metadata": {},
   "outputs": [],
   "source": [
    "#Finding norm of all the colums\n",
    "answer = np.empty(shape=(u.shape[1],))\n",
    "\n",
    "for c in range(sub.shape[1]):    \n",
    "    answer[c] = np.linalg.norm(sub[:,c])"
   ]
  },
  {
   "cell_type": "code",
   "execution_count": 81,
   "metadata": {},
   "outputs": [],
   "source": [
    "# FACE RECOGNITION\n",
    "\n",
    "temp_ans = np.empty(shape=(u.shape[1],))\n",
    "temp=np.copy(answer)\n",
    "temp.sort()\n",
    "check = temp[0]\n",
    "\n",
    "index=0\n",
    "for i in range(answer.shape[0]):\n",
    "    if check == answer[i]:\n",
    "        index=i\n",
    "        break"
   ]
  },
  {
   "cell_type": "code",
   "execution_count": 82,
   "metadata": {},
   "outputs": [
    {
     "name": "stdout",
     "output_type": "stream",
     "text": [
      "The predicted face is:  pjrand\n"
     ]
    }
   ],
   "source": [
    "# Checking for corresponding image for minimum answer\n",
    "\n",
    "i = 0\n",
    "flag = 0\n",
    "for name in files:\n",
    "    for j in range(1,21,4):\n",
    "        if index == i:\n",
    "            print( \"The predicted face is: \",name)\n",
    "            flag = 1\n",
    "            break\n",
    "        \n",
    "        else:\n",
    "            i=i+1\n",
    "    if flag:\n",
    "        break"
   ]
  },
  {
   "cell_type": "code",
   "execution_count": null,
   "metadata": {},
   "outputs": [],
   "source": []
  }
 ],
 "metadata": {
  "kernelspec": {
   "display_name": "Python 3",
   "language": "python",
   "name": "python3"
  },
  "language_info": {
   "codemirror_mode": {
    "name": "ipython",
    "version": 3
   },
   "file_extension": ".py",
   "mimetype": "text/x-python",
   "name": "python",
   "nbconvert_exporter": "python",
   "pygments_lexer": "ipython3",
   "version": "3.7.4"
  }
 },
 "nbformat": 4,
 "nbformat_minor": 2
}
